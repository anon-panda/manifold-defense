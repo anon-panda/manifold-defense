{
 "cells": [
  {
   "cell_type": "code",
   "execution_count": 1,
   "metadata": {},
   "outputs": [
    {
     "name": "stdout",
     "output_type": "stream",
     "text": [
      "env: CUDA_VISIBLE_DEVICES=0\n"
     ]
    }
   ],
   "source": [
    "%env CUDA_VISIBLE_DEVICES=0\n",
    "import torch as ch\n",
    "import itertools\n",
    "from torch import nn\n",
    "import torch.nn.functional as F\n",
    "import numpy as np\n",
    "from mnist_config import trainloader, testloader\n",
    "import matplotlib.pyplot as plt\n",
    "from models.encoders import MNISTAutoEncoder\n",
    "from models.simple_models import SmallSimpleClassifier, MNISTClassifier\n",
    "from optim import OAdam"
   ]
  },
  {
   "cell_type": "code",
   "execution_count": 2,
   "metadata": {},
   "outputs": [
    {
     "data": {
      "text/plain": [
       "MNISTClassifier(\n",
       "  (conv1): Conv2d(1, 32, kernel_size=(5, 5), stride=(1, 1), padding=(2, 2))\n",
       "  (conv2): Conv2d(32, 64, kernel_size=(5, 5), stride=(1, 1), padding=(2, 2))\n",
       "  (fc): Linear(in_features=3136, out_features=1024, bias=True)\n",
       "  (final_fc): Linear(in_features=1024, out_features=10, bias=True)\n",
       ")"
      ]
     },
     "execution_count": 2,
     "metadata": {},
     "output_type": "execute_result"
    }
   ],
   "source": [
    "net = MNISTClassifier().cuda()\n",
    "net.load_state_dict(ch.load('./results/trained_net_l2_madry_mnist_1.5'))\n",
    "\n",
    "ae = MNISTAutoEncoder(784, 128,spectral_norm=False).cuda()\n",
    "ae.load_state_dict(ch.load('./final_4_retuned_6_ae'))\n",
    "\n",
    "ae.eval()\n",
    "net.eval()"
   ]
  },
  {
   "cell_type": "code",
   "execution_count": 3,
   "metadata": {},
   "outputs": [],
   "source": [
    "total_error = 0.\n",
    "total = 0.\n",
    "num_attacks = 0.\n",
    "for original, labels in testloader:\n",
    "    original = original.cuda()\n",
    "    labels = labels.cuda()\n",
    "    norm = ch.norm((original-ae(original)).view(original.shape[0],-1),dim=-1)\n",
    "    total_error += norm.sum().item()\n",
    "    total += original.shape[0]\n",
    "\n",
    "    batch_size = testloader.batch_size\n",
    "    im = original[:batch_size,:,:,:].view(batch_size,1,28,28)\n",
    "    EPS = 1.5 \n",
    "    ones = ch.ones(batch_size,1).cuda()\n",
    "\n",
    "    z_ = ae.encode(im).detach().cuda()\n",
    "    z_.requires_grad = False\n",
    "\n",
    "    z = z_.detach()# + 1e-3*ch.randn(z_.shape).cuda()\n",
    "    z.requires_grad = True\n",
    "\n",
    "    lambda_ = 1e-2*ch.rand(batch_size,1).cuda()\n",
    "    lambda_.requires_grad = True\n",
    "\n",
    "    opt1 = OAdam([{'params':z}], lr=5e-3)\n",
    "    opt2 = OAdam([{'params':lambda_}], lr=1e-4)\n",
    "    # opt1 = OAdam([{'params':z}], lr=1e-4)\n",
    "    # opt2 = OAdam([{'params':lambda_}], lr=1e-4)# num_steps = 120, ratio = 1\n",
    "\n",
    "\n",
    "    softmax = nn.Softmax()\n",
    "    ce = nn.CrossEntropyLoss(reduction='mean')\n",
    "\n",
    "    ref = ae(im).detach() #im\n",
    "\n",
    "    for i in range(3):\n",
    "        opt1.zero_grad()\n",
    "    #     ae_error = ch.norm((im-ae(im)).view(batch_size,-1),dim=-1)\n",
    "    #     ce_error = ce(net(ae.decode(z)),net(ref).detach().argmax(1))\n",
    "    #     constraint_error = ch.norm((ref-ae.decode(z)).view(batch_size,-1),dim=-1) - EPS*ones\n",
    "        # triangle inequality version\n",
    "    #     constraint_error = ch.norm((ref-ae.decode(z)).view(batch_size,-1),dim=-1) - (EPS*ones - ae_error)\n",
    "\n",
    "    #     loss1 =  -ce_error + ch.mean(lambda_ * constraint_error)\n",
    "        loss1 = -1.* ce(net(ae.decode(z)),net(ref).detach().argmax(1)) + \\\n",
    "        ch.mean(lambda_ * (ch.norm((ref-ae.decode(z)).view(batch_size,-1),dim=-1,keepdim=True) - EPS*ones))\n",
    "        loss1.backward(retain_graph=True)\n",
    "        opt1.step()\n",
    "        z.clamp(-1,1)\n",
    "        for j in range(1):\n",
    "            opt2.zero_grad()\n",
    "            loss2 = -1.*ch.mean(lambda_ * (ch.norm((ref-ae.decode(z)).view(batch_size,-1),dim=-1,keepdim=True) - EPS*ones)) #ch.mean(lambda_ * constraint_error)\n",
    "            loss2.backward(retain_graph=True)\n",
    "            opt2.step()\n",
    "            lambda_ = lambda_.clamp(1e-3,1e5)\n",
    "\n",
    "    norm = ch.norm((ref-ae.decode(z)).view(batch_size,-1),dim=-1)\n",
    "    valid = (norm < EPS).float()\n",
    "    pred1 = net(ref).argmax(1)\n",
    "    pred2 = net(ae.decode(z)).argmax(1)\n",
    "    count = ((pred1!=pred2).float() * valid).sum()\n",
    "#         print(count.item(),norm)\n",
    "    num_attacks += count.item()\n"
   ]
  },
  {
   "cell_type": "code",
   "execution_count": 4,
   "metadata": {},
   "outputs": [
    {
     "name": "stdout",
     "output_type": "stream",
     "text": [
      "Number of successful attacks: 2543\n"
     ]
    }
   ],
   "source": [
    "print(\"Number of successful attacks: %d\" %(num_attacks))"
   ]
  },
  {
   "cell_type": "markdown",
   "metadata": {},
   "source": [
    "# Print indices of successful attacks"
   ]
  },
  {
   "cell_type": "code",
   "execution_count": 5,
   "metadata": {},
   "outputs": [
    {
     "name": "stdout",
     "output_type": "stream",
     "text": [
      "[ 4  9 10 20 22 25 27 32 35 37 47]\n"
     ]
    }
   ],
   "source": [
    "norm = ch.norm((ref-ae.decode(z)).view(batch_size,-1),dim=-1)\n",
    "valid = (norm < 1.5).float()\n",
    "pred1 = net(ref).argmax(1)\n",
    "pred2 = net(ae.decode(z)).argmax(1)\n",
    "    \n",
    "success = ((pred1!=pred2).float() * valid)\n",
    "\n",
    "xx = np.where(success.detach().cpu().numpy() > 0)[0]\n",
    "print(xx)\n",
    "if xx.shape[0] >0:\n",
    "    idx = xx[0]"
   ]
  },
  {
   "cell_type": "code",
   "execution_count": 6,
   "metadata": {},
   "outputs": [
    {
     "data": {
      "image/png": "[encoded data removed]",
      "text/plain": [
       "<Figure size 432x288 with 3 Axes>"
      ]
     },
     "metadata": {
      "needs_background": "light"
     },
     "output_type": "display_data"
    }
   ],
   "source": [
    "fig = plt.figure()\n",
    "plt.subplot(131)\n",
    "plt.imshow(im[idx].detach().cpu().numpy().reshape(28,28),cmap='gray')\n",
    "plt.title('Original')\n",
    "plt.subplot(132)\n",
    "plt.imshow(ae(im)[idx].detach().cpu().numpy().reshape(28,28),cmap='gray')\n",
    "plt.title('Encoded')\n",
    "# plt.show()\n",
    "plt.subplot(133)\n",
    "plt.imshow(ae.decode(z)[idx].detach().cpu().numpy().reshape(28,28),cmap='gray')\n",
    "plt.title('Adversarial')\n",
    "# plt.show()\n",
    "plt.savefig('attack.png')"
   ]
  }
 ],
 "metadata": {
  "kernelspec": {
   "display_name": "proj_def",
   "language": "python",
   "name": "proj_def"
  },
  "language_info": {
   "codemirror_mode": {
    "name": "ipython",
    "version": 3
   },
   "file_extension": ".py",
   "mimetype": "text/x-python",
   "name": "python",
   "nbconvert_exporter": "python",
   "pygments_lexer": "ipython3",
   "version": "3.5.2"
  }
 },
 "nbformat": 4,
 "nbformat_minor": 2
}
